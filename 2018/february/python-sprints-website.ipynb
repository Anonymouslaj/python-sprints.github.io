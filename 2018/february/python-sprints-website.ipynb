{
 "cells": [
  {
   "cell_type": "markdown",
   "metadata": {},
   "source": [
    "<img alt=\"\" style=\"width: 92px; float: left; margin-right: 10px;\" src=\"https://avatars3.githubusercontent.com/u/32343625?s=200&v=4\"/>\n",
    "# London Python Sprints\n",
    "\n",
    "Thursday, 8th of February 2018, 6:30pm\n",
    "\n",
    "<a href=\"Heron Tower, 110 Bishopsgate, EC2N 4AY, London, GB\">Harvey Nash, Heron Tower, 110 Bishopsgate, EC2N 4AY, London, GB</a>"
   ]
  },
  {
   "cell_type": "markdown",
   "metadata": {},
   "source": [
    "## Our sponsor\n",
    "\n",
    "<table>\n",
    "    <tr>\n",
    "        <td>\n",
    "            <p>Thanks once again to <b><a href=\"https://www.linkedin.com/in/hamishpitkeathly/\">Hamish</a></b> and <b>Harvey Nash</b> for hosting us, and for the pizza and beers for the session.</p>\n",
    "\n",
    "            <p>Get in touch with him, if you're looking for a job, and want to talk to a recruiter who understands Python.</p>\n",
    "        </td>\n",
    "        <td>\n",
    "            <img alt=\"\" style=\"width: 260px;\" src=\"https://upload.wikimedia.org/wikipedia/en/thumb/a/a1/Harvey_Nash_Corporate_Logo.svg/1200px-Harvey_Nash_Corporate_Logo.svg.png\"/>\n",
    "\n",
    "        </td>\n",
    "    </tr>\n",
    "</table>\n",
    "\n"
   ]
  },
  {
   "cell_type": "markdown",
   "metadata": {},
   "source": [
    "## Sprint\n",
    "\n",
    "This sprint is for **all levels**, meaning that we will have mentorship for beginners, and somehow complex tasks for experienced sprinters.\n",
    "\n",
    "The goal of the sprint is to **improve the page of our group**.\n",
    "\n",
    "This is the list of bugs suitable for the sprint: <a href=\"https://github.com/python-sprints/python-sprints.github.io/issues\">GitHub Issues</a>\n",
    "\n",
    "Join the discussion on the <a href=\"https://gitter.im/py-sprints/python-sprints-website\">pandas-bugfixing gitter channel</a>"
   ]
  },
  {
   "cell_type": "markdown",
   "metadata": {},
   "source": [
    "## RSVP\n",
    "\n",
    "Please **RSVP** in the <a href=\"https://www.meetup.com/Python-Sprints/events/247475140/\">meetup page</a> with your **full name**.\n",
    "\n",
    "Please <a href=\"https://www.meetup.com/Python-Sprints/members/?op=leaders\">contact us</a> to get priority in the RSVP if:\n",
    "* You are part of an underrepresented **minority** (gender, age...)\n",
    "* You are visiting London **from abroad**\n",
    "* You are an **experienced** open source contributor and you can mentor other people"
   ]
  },
  {
   "cell_type": "markdown",
   "metadata": {},
   "source": [
    "## Set up for the sprint\n",
    "\n",
    "Make sure you <b>bring your own laptop</b> to the sprint.\n",
    "\n",
    "You need the next software installed:\n",
    "* Git\n",
    "* An editor (vim, emacs, PyCharm,...)\n",
    "\n",
    "For this sprint, you simply need Python installed in your system (version 3.6).\n",
    "\n",
    "Then, you simply need to fork the python-sprints website repository:\n",
    "* Click on the fork button in the top right of https://github.com/python-sprints/python-sprints.github.io\n",
    "\n",
    "Clone your fork, to have a local copy:\n",
    "* `git clone https://github.com/<your-github-username>/python-sprints.github.io`\n",
    "\n",
    "Start a local web server to see your changes to the website as they will be seen in https://python-sprints.github.io/:\n",
    "* `cd python-sprints.github.io`\n",
    "* `python -m http.server`\n",
    "* Go to http://localhost:8000 and check if you see the same as in https://python-sprints.github.io/\n",
    "\n",
    "If you get the error `python: No module named http` you're using a legacy version of Python (possibly Python 2.7)."
   ]
  }
 ],
 "metadata": {
  "kernelspec": {
   "display_name": "Python 3",
   "language": "python",
   "name": "python3"
  },
  "language_info": {
   "codemirror_mode": {
    "name": "ipython",
    "version": 3
   },
   "file_extension": ".py",
   "mimetype": "text/x-python",
   "name": "python",
   "nbconvert_exporter": "python",
   "pygments_lexer": "ipython3",
   "version": "3.6.1"
  }
 },
 "nbformat": 4,
 "nbformat_minor": 2
}
