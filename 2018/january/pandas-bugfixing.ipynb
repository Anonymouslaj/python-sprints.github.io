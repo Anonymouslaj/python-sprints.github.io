{
 "cells": [
  {
   "cell_type": "markdown",
   "metadata": {},
   "source": [
    "<img alt=\"\" style=\"width: 92px; float: left; margin-right: 10px;\" src=\"https://avatars3.githubusercontent.com/u/32343625?s=200&v=4\"/>\n",
    "# London Python Sprints\n",
    "\n",
    "Thursday, 25th of January 2018, 6:30pm\n",
    "\n",
    "<a href=\"Heron Tower, 110 Bishopsgate, EC2N 4AY, London, GB\">Harvey Nash, Heron Tower, 110 Bishopsgate, EC2N 4AY, London, GB</a>"
   ]
  },
  {
   "cell_type": "markdown",
   "metadata": {},
   "source": [
    "## Our sponsor\n",
    "\n",
    "<table>\n",
    "    <tr>\n",
    "        <td>\n",
    "            <p>Thanks once again to <b><a href=\"https://www.linkedin.com/in/hamishpitkeathly/\">Hamish</a></b> and <b>Harvey Nash</b> for hosting us, and for the pizza and beers for the session.</p>\n",
    "\n",
    "            <p>Get in touch with him, if you're looking for a job, and want to talk to a recruiter who understands Python.</p>\n",
    "        </td>\n",
    "        <td>\n",
    "            <img alt=\"\" style=\"width: 260px;\" src=\"https://upload.wikimedia.org/wikipedia/en/thumb/a/a1/Harvey_Nash_Corporate_Logo.svg/1200px-Harvey_Nash_Corporate_Logo.svg.png\"/>\n",
    "\n",
    "        </td>\n",
    "    </tr>\n",
    "</table>\n",
    "\n"
   ]
  },
  {
   "cell_type": "markdown",
   "metadata": {},
   "source": [
    "## Sprint\n",
    "\n",
    "This sprint is of **intermediate level**, meaning that you need to have a decent knowledge of Python, and have some experience sending pull requests. We host beginner level sprints frequently, those would be a better if you're starting as a contributor to open source.\n",
    "\n",
    "The goal of the sprint is to **fix bugs in pandas**.\n",
    "\n",
    "This is the list of bugs suitable for the sprint: <a href=\"https://github.com/pandas-dev/pandas/issues?utf8=%E2%9C%93&q=is%3Aissue+is%3Aopen+label%3A%22Effort+Low%22+label%3A%22good+first+issue%22+BUG+in%3Atitle\">GitHub Issues</a>\n",
    "\n",
    "Join the discussion on the <a href=\"https://gitter.im/py-sprints/pandas-bugfixing\">pandas-bugfixing gitter channel</a>"
   ]
  },
  {
   "cell_type": "markdown",
   "metadata": {},
   "source": [
    "## RSVP\n",
    "\n",
    "Please **RSVP** in the <a href=\"https://www.meetup.com/Python-Sprints/events/246880148/\">meetup page</a> with your **full name**.\n",
    "\n",
    "Please <a href=\"https://www.meetup.com/Python-Sprints/members/?op=leaders\">contact us</a> to get priority in the RSVP if:\n",
    "* You are part of an underrepresented **minority** (gender, age...)\n",
    "* You are visiting London **from abroad**\n",
    "* You are an **experienced** open source contributor and you can mentor other people"
   ]
  },
  {
   "cell_type": "markdown",
   "metadata": {},
   "source": [
    "## The project\n",
    "\n",
    "<b><a href=\"https://pandas.pydata.org/\">pandas</a></b> is an open source, BSD-licensed library providing high-performance, easy-to-use data structures and data analysis tools for the <a href=\"Python\">Python</a> programming language.\n",
    "\n",
    "pandas is a <a href=\"https://www.numfocus.org/open-source-projects.html\">NumFOCUS</a> sponsored project. This will help ensure the success of development of pandas as a world-class open-source project, and makes it possible to <a href=\"https://pandas.pydata.org/donate.html\">donate</a> to the project.\n",
    "\n",
    "<img alt=\"\" src=\"https://pandas.pydata.org/_static/pandas_logo.png\"/>"
   ]
  },
  {
   "cell_type": "markdown",
   "metadata": {},
   "source": [
    "## Set up for the sprint\n",
    "\n",
    "Make sure you <b>bring your own laptop</b> to the sprint.\n",
    "\n",
    "You need the next software installed:\n",
    "* Git\n",
    "* An editor (vim, emacs, PyCharm,...)\n",
    "\n",
    "To <b>set up the environment</b>, you have detailed instructions in the <a href=\"https://pandas.pydata.org/pandas-docs/stable/contributing.html\">pandas contributing guide</a>.\n",
    "\n",
    "Get the pandas source code:\n",
    "* Fork the <a href=\"https://github.com/pandas-dev/pandas\">pandas project</a> on GitHub (click on the top-right fork button)\n",
    "* In the terminal, run:\n",
    " * `git clone https://github.com/<your-github-username>/pandas`\n",
    "\n",
    "A summary of it would be:\n",
    "* Download and install <a href=\"https://www.anaconda.com/download/\">Anaconda</a>\n",
    "* Activate conda by one of the next (or equivalent, if you know what you're doing):\n",
    " * Restart your terminal\n",
    " * `. ~/.bashrc`\n",
    " * `export PATH=\"<path-to-anaconda>/bin:$PATH\"`\n",
    "* Create a conda environment:\n",
    " * `conda create -n pandas_dev -f <path-to-pandas>/ci/environment-dev.yaml`\n",
    "* Activate the new conda environment:\n",
    " * `source activate pandas_dev`\n",
    "* Install pandas development dependencies:\n",
    " * `conda install -c defaults -c conda-forge --file=<path-to-pandas>/ci/requirements-optional-conda.txt`\n",
    "* Compile C code in pandas:\n",
    " * `python setup.py build_ext --inplace`\n",
    "* Run the tests:\n",
    " * `cd <path-to-pandas>`\n",
    " * `pytest pandas`"
   ]
  }
 ],
 "metadata": {
  "kernelspec": {
   "display_name": "Python 3",
   "language": "python",
   "name": "python3"
  },
  "language_info": {
   "codemirror_mode": {
    "name": "ipython",
    "version": 3
   },
   "file_extension": ".py",
   "mimetype": "text/x-python",
   "name": "python",
   "nbconvert_exporter": "python",
   "pygments_lexer": "ipython3",
   "version": "3.6.1"
  }
 },
 "nbformat": 4,
 "nbformat_minor": 2
}
